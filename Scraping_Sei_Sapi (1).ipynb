{
  "nbformat": 4,
  "nbformat_minor": 0,
  "metadata": {
    "colab": {
      "provenance": []
    },
    "kernelspec": {
      "name": "python3",
      "display_name": "Python 3"
    },
    "language_info": {
      "name": "python"
    }
  },
  "cells": [
    {
      "cell_type": "code",
      "metadata": {
        "colab": {
          "base_uri": "https://localhost:8080/"
        },
        "id": "87fa471c",
        "outputId": "9087c364-dd0e-4b3f-de25-4174c9df1d86"
      },
      "source": [
        "!pip install selenium"
      ],
      "execution_count": 2,
      "outputs": [
        {
          "output_type": "stream",
          "name": "stdout",
          "text": [
            "Collecting selenium\n",
            "  Downloading selenium-4.34.2-py3-none-any.whl.metadata (7.5 kB)\n",
            "Collecting urllib3~=2.5.0 (from urllib3[socks]~=2.5.0->selenium)\n",
            "  Downloading urllib3-2.5.0-py3-none-any.whl.metadata (6.5 kB)\n",
            "Collecting trio~=0.30.0 (from selenium)\n",
            "  Downloading trio-0.30.0-py3-none-any.whl.metadata (8.5 kB)\n",
            "Collecting trio-websocket~=0.12.2 (from selenium)\n",
            "  Downloading trio_websocket-0.12.2-py3-none-any.whl.metadata (5.1 kB)\n",
            "Requirement already satisfied: certifi>=2025.6.15 in /usr/local/lib/python3.11/dist-packages (from selenium) (2025.6.15)\n",
            "Requirement already satisfied: typing_extensions~=4.14.0 in /usr/local/lib/python3.11/dist-packages (from selenium) (4.14.1)\n",
            "Requirement already satisfied: websocket-client~=1.8.0 in /usr/local/lib/python3.11/dist-packages (from selenium) (1.8.0)\n",
            "Requirement already satisfied: attrs>=23.2.0 in /usr/local/lib/python3.11/dist-packages (from trio~=0.30.0->selenium) (25.3.0)\n",
            "Requirement already satisfied: sortedcontainers in /usr/local/lib/python3.11/dist-packages (from trio~=0.30.0->selenium) (2.4.0)\n",
            "Requirement already satisfied: idna in /usr/local/lib/python3.11/dist-packages (from trio~=0.30.0->selenium) (3.10)\n",
            "Collecting outcome (from trio~=0.30.0->selenium)\n",
            "  Downloading outcome-1.3.0.post0-py2.py3-none-any.whl.metadata (2.6 kB)\n",
            "Requirement already satisfied: sniffio>=1.3.0 in /usr/local/lib/python3.11/dist-packages (from trio~=0.30.0->selenium) (1.3.1)\n",
            "Collecting wsproto>=0.14 (from trio-websocket~=0.12.2->selenium)\n",
            "  Downloading wsproto-1.2.0-py3-none-any.whl.metadata (5.6 kB)\n",
            "Requirement already satisfied: pysocks!=1.5.7,<2.0,>=1.5.6 in /usr/local/lib/python3.11/dist-packages (from urllib3[socks]~=2.5.0->selenium) (1.7.1)\n",
            "Requirement already satisfied: h11<1,>=0.9.0 in /usr/local/lib/python3.11/dist-packages (from wsproto>=0.14->trio-websocket~=0.12.2->selenium) (0.16.0)\n",
            "Downloading selenium-4.34.2-py3-none-any.whl (9.4 MB)\n",
            "\u001b[2K   \u001b[90m━━━━━━━━━━━━━━━━━━━━━━━━━━━━━━━━━━━━━━━━\u001b[0m \u001b[32m9.4/9.4 MB\u001b[0m \u001b[31m104.1 MB/s\u001b[0m eta \u001b[36m0:00:00\u001b[0m\n",
            "\u001b[?25hDownloading trio-0.30.0-py3-none-any.whl (499 kB)\n",
            "\u001b[2K   \u001b[90m━━━━━━━━━━━━━━━━━━━━━━━━━━━━━━━━━━━━━━━━\u001b[0m \u001b[32m499.2/499.2 kB\u001b[0m \u001b[31m33.0 MB/s\u001b[0m eta \u001b[36m0:00:00\u001b[0m\n",
            "\u001b[?25hDownloading trio_websocket-0.12.2-py3-none-any.whl (21 kB)\n",
            "Downloading urllib3-2.5.0-py3-none-any.whl (129 kB)\n",
            "\u001b[2K   \u001b[90m━━━━━━━━━━━━━━━━━━━━━━━━━━━━━━━━━━━━━━━━\u001b[0m \u001b[32m129.8/129.8 kB\u001b[0m \u001b[31m11.7 MB/s\u001b[0m eta \u001b[36m0:00:00\u001b[0m\n",
            "\u001b[?25hDownloading outcome-1.3.0.post0-py2.py3-none-any.whl (10 kB)\n",
            "Downloading wsproto-1.2.0-py3-none-any.whl (24 kB)\n",
            "Installing collected packages: wsproto, urllib3, outcome, trio, trio-websocket, selenium\n",
            "  Attempting uninstall: urllib3\n",
            "    Found existing installation: urllib3 2.4.0\n",
            "    Uninstalling urllib3-2.4.0:\n",
            "      Successfully uninstalled urllib3-2.4.0\n",
            "Successfully installed outcome-1.3.0.post0 selenium-4.34.2 trio-0.30.0 trio-websocket-0.12.2 urllib3-2.5.0 wsproto-1.2.0\n"
          ]
        }
      ]
    },
    {
      "cell_type": "code",
      "source": [
        "from selenium import webdriver\n",
        "from selenium.webdriver.common.by import By\n",
        "from selenium.webdriver.chrome.options import Options\n",
        "from selenium.webdriver.support.ui import WebDriverWait\n",
        "from selenium.webdriver.support import expected_conditions as EC\n",
        "import time\n",
        "import pandas as pd\n",
        "\n",
        "# Setup Chrome\n",
        "options = Options()\n",
        "options.add_argument('--headless')\n",
        "options.add_argument('--no-sandbox') # Added --no-sandbox\n",
        "# options.add_argument('--disable-gpu')\n",
        "# options.add_argument('--window-size=1920x1080')\n",
        "driver = webdriver.Chrome(options=options)\n",
        "\n",
        "try:\n",
        "    # Buka halaman Maps\n",
        "    url = \"https://www.google.com/maps/place/Se'i+Sapi+Lamalera/@-6.302937,106.6308827,14z/data=!4m10!1m2!2m1!1ssei+sapi!3m6!1s0x2e69fb98eac000bf:0x536e38354500d4c6!8m2!3d-6.302937!4d106.6689915!15sCghzZWkgc2FpiZIBCnJlc3RhdXJhbnSqAT4QASoMIghzZWkgc2FwaSgmMh4QASIaQNVCGTaGyhZoLB-xLnboBXwNs2ENQGoKIfsyDBACIghzZWkgc2FwaeABAA!16s%2Fg%2F11qnrtt9s0?entry=ttu&g_ep=EgoyMDI1MDUxMS4wIKXMDSoASAFQAw%3D%3D\"\n",
        "    driver.get(url)\n",
        "    time.sleep(5)\n",
        "\n",
        "    # Klik tombol More Reviews jika ada\n",
        "    try:\n",
        "        more_reviews = WebDriverWait(driver, 10).until(\n",
        "            EC.element_to_be_clickable((By.XPATH, \"//span[contains(text(), 'Ulasan lainnya') or contains(text(), 'More reviews')]/ancestor::button\"))\n",
        "        )\n",
        "        more_reviews.click()\n",
        "        print(\"[INFO] Klik tombol More reviews.\")\n",
        "        time.sleep(3)\n",
        "    except:\n",
        "        print(\"[INFO] Tidak ada tombol More reviews.\")\n",
        "\n",
        "    # Loop scroll berdasarkan elemen terakhir\n",
        "    reviews_data = []\n",
        "    seen_reviews = set()\n",
        "    scroll_attempt = 0\n",
        "    max_scroll_attempts = 200\n",
        "    print(\"[INFO] Mulai scroll...\")\n",
        "\n",
        "    while scroll_attempt < max_scroll_attempts and len(reviews_data) < 50:\n",
        "        # Ambil semua container review\n",
        "        review_containers = driver.find_elements(By.CSS_SELECTOR, 'div.jftiEf')\n",
        "\n",
        "        for container in review_containers:\n",
        "            try:\n",
        "                username = container.find_element(By.CLASS_NAME, 'd4r55').text.strip()\n",
        "            except:\n",
        "                username = 'Unknown'\n",
        "\n",
        "            try:\n",
        "                review = container.find_element(By.CLASS_NAME, 'wiI7pd').text.strip()\n",
        "            except:\n",
        "                review = ''\n",
        "\n",
        "            try:\n",
        "                rating_element = container.find_element(By.CLASS_NAME, 'kvMYJc')\n",
        "                rating = rating_element.get_attribute('aria-label').split()[0]  # contoh: \"2 stars\"\n",
        "            except:\n",
        "                rating = 'Unknown'\n",
        "\n",
        "            # Cek duplikat review\n",
        "            unique_key = (username, review)\n",
        "            if review and unique_key not in seen_reviews:\n",
        "                seen_reviews.add(unique_key)\n",
        "                reviews_data.append({\n",
        "                    'user': username,\n",
        "                    'review': review,\n",
        "                    'rating': rating\n",
        "                })\n",
        "\n",
        "        # Scroll ke bawah dengan elemen terakhir\n",
        "        if review_containers:\n",
        "            driver.execute_script(\"arguments[0].scrollIntoView();\", review_containers[-1])\n",
        "        else:\n",
        "            print(\"[INFO] Tidak ada container review ditemukan.\")\n",
        "            break\n",
        "\n",
        "        print(f\"[INFO] Total ulasan terkumpul: {len(reviews_data)}\")\n",
        "        time.sleep(2)\n",
        "        scroll_attempt += 1\n",
        "\n",
        "        if len(reviews_data) >= 50:\n",
        "            print(\"[INFO] Sudah mencapai 50 ulasan, berhenti scrolling.\")\n",
        "            break\n",
        "\n",
        "    # Cetak hasil\n",
        "    print(\"\\n=== Hasil Ulasan ===\")\n",
        "    for i, item in enumerate(reviews_data[:50], 1):\n",
        "        print(f\"{i}. User: {item['user']}\")\n",
        "        print(f\"   Rating: {item['rating']}\")\n",
        "        print(f\"   Review: {item['review']}\\n\")\n",
        "\n",
        "    # Simpan ke CSV\n",
        "    df = pd.DataFrame(reviews_data)\n",
        "    df.to_csv('ulasan_sei_sapi_lamalera.csv', index=False)\n",
        "    print(\"[INFO] Data berhasil disimpan ke 'ulasan_sei_sapi_lamalera.csv'.\")\n",
        "\n",
        "finally:\n",
        "    driver.quit()\n",
        "    print(\"[INFO] WebDriver session closed.\")"
      ],
      "metadata": {
        "colab": {
          "base_uri": "https://localhost:8080/"
        },
        "id": "kIXdZk8s05-f",
        "outputId": "6420cfed-a165-48a8-e7eb-15d0abb973ae"
      },
      "execution_count": 6,
      "outputs": [
        {
          "output_type": "stream",
          "name": "stdout",
          "text": [
            "[INFO] Klik tombol More reviews.\n",
            "[INFO] Mulai scroll...\n",
            "[INFO] Tidak ada container review ditemukan.\n",
            "\n",
            "=== Hasil Ulasan ===\n",
            "[INFO] Data berhasil disimpan ke 'ulasan_sei_sapi_lamalera.csv'.\n",
            "[INFO] WebDriver session closed.\n"
          ]
        }
      ]
    }
  ]
}